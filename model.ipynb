{
 "cells": [
  {
   "cell_type": "code",
   "execution_count": 1,
   "metadata": {},
   "outputs": [],
   "source": [
    "import numpy as np\n",
    "from sklearn.preprocessing import MinMaxScaler"
   ]
  },
  {
   "cell_type": "code",
   "execution_count": 2,
   "metadata": {},
   "outputs": [],
   "source": [
    "# Define Weights for Credit Score Calculation\n",
    "weights = {\n",
    "    \"DTI\": -0.35,  # High DTI is bad\n",
    "    \"STI\": 0.25,   # High savings is good\n",
    "    \"CUR\": -0.30,  # High credit utilization is bad\n",
    "    \"TOTAL_SPENDING\": -0.10,  # High spending can be risky\n",
    "    \"GAMBLING_PERCENTAGE\": -0.40,  # High gambling is very bad\n",
    "    \"IS_HIGH_DEBT\": -0.50,  # High debt means high risk\n",
    "    \"IS_LOW_SAVINGS\": -0.30  # Low savings is risky\n",
    "}"
   ]
  },
  {
   "cell_type": "code",
   "execution_count": 3,
   "metadata": {},
   "outputs": [],
   "source": [
    "def compute_credit_score(data):\n",
    "    \"\"\"\n",
    "    Takes user input, calculates financial metrics, and computes a credit score.\n",
    "    \"\"\"\n",
    "    # Extract values\n",
    "    income = data[\"INCOME\"]\n",
    "    savings = data[\"SAVINGS\"]\n",
    "    debt = data[\"DEBT\"]\n",
    "\n",
    "    # Spending categories\n",
    "    spending_categories = [\"T_GROCERIES_12\", \"T_CLOTHING_12\", \"T_HOUSING_12\", \"T_EDUCATION_12\", \n",
    "                           \"T_HEALTH_12\", \"T_TRAVEL_12\", \"T_ENTERTAINMENT_12\", \"T_GAMBLING_12\", \n",
    "                           \"T_UTILITIES_12\", \"T_TAX_12\", \"T_FINES_12\"]\n",
    "\n",
    "    total_spending = sum(data[cat] for cat in spending_categories)\n",
    "\n",
    "    # Compute Derived Features\n",
    "    DTI = debt / income if income > 0 else 1  # Avoid division by zero\n",
    "    STI = savings / income if income > 0 else 0\n",
    "    CUR = debt / (debt + savings + income) if (debt + savings + income) > 0 else 1\n",
    "    GAMBLING_PERCENTAGE = data[\"T_GAMBLING_12\"] / total_spending if total_spending > 0 else 0\n",
    "    IS_HIGH_DEBT = 1 if DTI > 0.5 else 0\n",
    "    IS_LOW_SAVINGS = 1 if STI < 0.2 else 0\n",
    "\n",
    "    # Normalize the features before scoring\n",
    "    scaler = MinMaxScaler()\n",
    "    scaled_features = scaler.fit_transform(np.array([[DTI, STI, CUR, total_spending, GAMBLING_PERCENTAGE, IS_HIGH_DEBT, IS_LOW_SAVINGS]]))\n",
    "\n",
    "    # Compute Weighted Credit Score\n",
    "    credit_score = (\n",
    "        scaled_features[0][0] * weights[\"DTI\"] +\n",
    "        scaled_features[0][1] * weights[\"STI\"] +\n",
    "        scaled_features[0][2] * weights[\"CUR\"] +\n",
    "        scaled_features[0][3] * weights[\"TOTAL_SPENDING\"] +\n",
    "        scaled_features[0][4] * weights[\"GAMBLING_PERCENTAGE\"] +\n",
    "        scaled_features[0][5] * weights[\"IS_HIGH_DEBT\"] +\n",
    "        scaled_features[0][6] * weights[\"IS_LOW_SAVINGS\"]\n",
    "    )\n",
    "\n",
    "    # Scale Credit Score to 300 - 850 range\n",
    "    scaled_score = MinMaxScaler(feature_range=(300, 850)).fit_transform([[credit_score]])[0][0]\n",
    "    final_credit_score = round(scaled_score, 2)\n",
    "\n",
    "    # Loan Approval Decision\n",
    "    loan_status = \"APPROVED\" if final_credit_score >= 700 else \"REJECTED\"\n",
    "\n",
    "    return {\n",
    "        \"credit_score\": final_credit_score,\n",
    "        \"loan_status\": loan_status,\n",
    "        \"financial_metrics\": {\n",
    "            \"DTI\": round(DTI, 2),\n",
    "            \"STI\": round(STI, 2),\n",
    "            \"CUR\": round(CUR, 2),\n",
    "            \"TOTAL_SPENDING\": round(total_spending, 2),\n",
    "            \"GAMBLING_PERCENTAGE\": round(GAMBLING_PERCENTAGE, 2),\n",
    "            \"IS_HIGH_DEBT\": IS_HIGH_DEBT,\n",
    "            \"IS_LOW_SAVINGS\": IS_LOW_SAVINGS\n",
    "        }\n",
    "    }"
   ]
  }
 ],
 "metadata": {
  "kernelspec": {
   "display_name": "Python 3",
   "language": "python",
   "name": "python3"
  },
  "language_info": {
   "codemirror_mode": {
    "name": "ipython",
    "version": 3
   },
   "file_extension": ".py",
   "mimetype": "text/x-python",
   "name": "python",
   "nbconvert_exporter": "python",
   "pygments_lexer": "ipython3",
   "version": "3.12.3"
  }
 },
 "nbformat": 4,
 "nbformat_minor": 2
}
